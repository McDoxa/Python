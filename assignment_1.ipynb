{
 "cells": [
  {
   "cell_type": "markdown",
   "metadata": {},
   "source": [
    "# Task 1"
   ]
  },
  {
   "cell_type": "code",
   "execution_count": 1,
   "metadata": {},
   "outputs": [
    {
     "name": "stdout",
     "output_type": "stream",
     "text": [
      "[2506, 2513, 2527, 2534, 2541, 2548, 2562, 2569, 2576, 2583, 2597, 2604, 2611, 2618, 2632, 2639, 2646, 2653, 2667, 2674, 2681, 2688, 2702, 2709, 2716, 2723, 2737, 2744, 2751, 2758, 2772, 2779, 2786, 2793, 2807, 2814, 2821, 2828, 2842, 2849, 2856, 2863, 2877, 2884, 2891, 2898, 2912, 2919, 2926, 2933, 2947, 2954, 2961, 2968, 2982, 2989, 2996, 3003, 3017, 3024, 3031, 3038, 3052, 3059, 3066, 3073, 3087, 3094, 3101, 3108, 3122, 3129, 3136, 3143, 3157, 3164, 3171, 3178, 3192, 3199]\n"
     ]
    }
   ],
   "source": [
    "# 2.\n",
    "\n",
    "result = []\n",
    "for i in range(2500,3201,1):\n",
    "     if i%7==0 and i%5 != 0:\n",
    "        result.append(i)\n",
    "\n",
    "print(result)\n"
   ]
  },
  {
   "cell_type": "code",
   "execution_count": 2,
   "metadata": {},
   "outputs": [
    {
     "name": "stdout",
     "output_type": "stream",
     "text": [
      "Enter your first name: Oluwaseyi \n",
      "Enter your last name: Onasami\n",
      " iyesawulO imasanO\n"
     ]
    }
   ],
   "source": [
    "# 3. \n",
    "\n",
    "first_name = input('Enter your first name: ')\n",
    "last_name = input('Enter your last name: ')    \n",
    "\n",
    "print(first_name[::-1],last_name[::-1])"
   ]
  },
  {
   "cell_type": "code",
   "execution_count": 3,
   "metadata": {},
   "outputs": [
    {
     "name": "stdout",
     "output_type": "stream",
     "text": [
      "Volume of the Sphere =  904.7786842338603cm3\n"
     ]
    }
   ],
   "source": [
    "# 4.\n",
    "\n",
    "import math \n",
    "d = 12 # diameter in cm\n",
    "volume = (4/3)* math.pi * (d/2)**3\n",
    "print('Volume of the Sphere = ', str(volume)+'cm3' )\n"
   ]
  },
  {
   "cell_type": "markdown",
   "metadata": {},
   "source": [
    "# Task 2"
   ]
  },
  {
   "cell_type": "code",
   "execution_count": 4,
   "metadata": {},
   "outputs": [
    {
     "name": "stdout",
     "output_type": "stream",
     "text": [
      "Enter your comma-separated numbers here: 2,3,4,5,6,7,8,9,0,1,3\n",
      "[2, 3, 4, 5, 6, 7, 8, 9, 0, 1, 3]\n"
     ]
    }
   ],
   "source": [
    "# 1.\n",
    "my_list = []\n",
    "input_data = input('Enter your comma-separated numbers here: ').split(',')\n",
    "for i in input_data:\n",
    "   my_list.append(int(i))\n",
    "print(my_list)\n",
    "\n",
    "\n"
   ]
  },
  {
   "cell_type": "code",
   "execution_count": 5,
   "metadata": {},
   "outputs": [
    {
     "name": "stdout",
     "output_type": "stream",
     "text": [
      "*\n",
      "**\n",
      "***\n",
      "****\n",
      "*****\n",
      "****\n",
      "***\n",
      "**\n",
      "*\n"
     ]
    }
   ],
   "source": [
    "# 2.\n",
    "\n",
    "for i in range(5):\n",
    "    print('*'*(i+1))\n",
    "for i in range(4,0,-1):\n",
    "    print('*'*(i))"
   ]
  },
  {
   "cell_type": "code",
   "execution_count": 6,
   "metadata": {},
   "outputs": [
    {
     "name": "stdout",
     "output_type": "stream",
     "text": [
      "Oluwaseyi\n",
      "Input Word:  Oluwaseyi \n",
      " Output Word:  iyesawulO\n"
     ]
    }
   ],
   "source": [
    "# 3.\n",
    "\n",
    "input_word = input()\n",
    "output_word = input_word[::-1]\n",
    "print('Input Word: ',input_word,'\\n',\"Output Word: \",output_word)"
   ]
  },
  {
   "cell_type": "code",
   "execution_count": 7,
   "metadata": {},
   "outputs": [
    {
     "name": "stdout",
     "output_type": "stream",
     "text": [
      "WE, THE PEOPLE OF INDIA, \n",
      " \t having solemnly resolved to constitute into a SOVEREIGN,! \n",
      "  \t \t SOCIALIST, SECULAR, DEMOCRATIC REPUBLIC \n",
      " \t \t   and to secure to all its citizens\n"
     ]
    }
   ],
   "source": [
    "print(\"WE, THE PEOPLE OF INDIA, \\n \\t having solemnly resolved to constitute into a SOVEREIGN,! \\n  \\t \\t SOCIALIST, SECULAR, DEMOCRATIC REPUBLIC \\n \\t \\t   and to secure to all its citizens\")"
   ]
  },
  {
   "cell_type": "code",
   "execution_count": null,
   "metadata": {},
   "outputs": [],
   "source": []
  }
 ],
 "metadata": {
  "kernelspec": {
   "display_name": "Python 3",
   "language": "python",
   "name": "python3"
  },
  "language_info": {
   "codemirror_mode": {
    "name": "ipython",
    "version": 3
   },
   "file_extension": ".py",
   "mimetype": "text/x-python",
   "name": "python",
   "nbconvert_exporter": "python",
   "pygments_lexer": "ipython3",
   "version": "3.7.4"
  }
 },
 "nbformat": 4,
 "nbformat_minor": 4
}
